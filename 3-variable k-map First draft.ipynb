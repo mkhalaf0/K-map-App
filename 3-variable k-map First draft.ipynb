{
 "cells": [
  {
   "cell_type": "code",
   "execution_count": 51,
   "id": "86995ffd",
   "metadata": {},
   "outputs": [],
   "source": [
    "import numpy as np"
   ]
  },
  {
   "cell_type": "code",
   "execution_count": 79,
   "id": "9a635dfa",
   "metadata": {},
   "outputs": [
    {
     "name": "stdout",
     "output_type": "stream",
     "text": [
      "Enter the mins/Enter N if not : 1\n",
      "Enter the mins/Enter N if not : 2\n",
      "Enter the mins/Enter N if not : 3\n",
      "Enter the mins/Enter N if not : 5\n",
      "Enter the mins/Enter N if not : 6\n",
      "Enter the mins/Enter N if not : 7\n",
      "Enter the mins/Enter N if not : \n",
      "Enter the mins/Enter N if not : 5\n",
      "[1, 2, 3, 5, 6, 7]\n",
      "[['0', '0', '1'], ['0', '1', '0'], ['0', '1', '1'], ['1', '0', '1'], ['1', '1', '0'], ['1', '1', '1'], ['8', '8', '8'], ['8', '8', '8']]\n"
     ]
    }
   ],
   "source": [
    "deci_fun=[]    #Declaring the decimal array, bit array\n",
    "bit_array=[]\n",
    "i=0                            #Remember to make changes for the first one with 2-variables\n",
    "n=0\n",
    "\n",
    "n_var=[\"A\",\"B\",\"C\"]        #an array for how many variables we have\n",
    "length=len(n_var)      #to find the number of variables we have\n",
    "n_bit=2**length       #to find the number of bits we have in total\n",
    "\n",
    "for i in range(n_bit):     #a for loop to input the decimal numbers (SOP) \n",
    "    element = input(\"Enter the mins/Enter N if not : \")     #an input for the numbers\n",
    "\n",
    "    if element.isdigit():   #if statement to not include any nondigit entry in the array\n",
    "        int(element)      #Convert the number entred from the form of a string to the integer form\n",
    "        if int(element)<n_bit:   #if statement to not include any numbers higher than the number of bits\n",
    "             deci_fun.insert(i,int(element) )\n",
    "             \n",
    "\n",
    "deci_fun_noduplct=[]\n",
    "\n",
    "for i in deci_fun:                       #ensure no duplicate numbers in the decimal array\n",
    "    if i not in deci_fun_noduplct:       #this line adds the elements that are not in the new array only one time\n",
    "        deci_fun_noduplct.append(i)\n",
    "\n",
    "fun_length=len(deci_fun_noduplct)  #find the length of the decimal array\n",
    "\n",
    "bit_split_position=int(length-1)\n",
    "for n in range(fun_length):  # for loop to convert the decimal into binary and put the data in the bit_array\n",
    "    num_pref=format(deci_fun_noduplct[n], f'#0{length+2}b')  #convert the decimal into binary based on how many bits we need\n",
    "    num=num_pref[2:] #delete the part nb' from the binary number\n",
    "    num_split=[]\n",
    "    for i in range(len(num)):\n",
    "            num_split.insert(i,num[i])\n",
    "    str(num_split)\n",
    "    fnum_split=\"\".join(num_split)\n",
    "      #split the numbers into two and add a space between them /note:only works for all-Variables\n",
    "    bit_array.insert(n,num_split) #insert the binary numbers to the bit_array\n",
    "null_first=['8']\n",
    "null_second=list(np.repeat(null_first,length))\n",
    "while len(bit_array)<n_bit:  #a while loop in case the length of the array is less than the need one\n",
    "    bit_array.append(null_second)  #add (8 8) as a representation of an empty element  # for All-variable\n",
    "    \n",
    "\n",
    "    \n",
    "print(deci_fun_noduplct)\n",
    "print(bit_array)\n"
   ]
  },
  {
   "cell_type": "code",
   "execution_count": 92,
   "id": "53c8f07b",
   "metadata": {},
   "outputs": [
    {
     "name": "stdout",
     "output_type": "stream",
     "text": [
      "[[0, 0, 1], [0, 1, 0], [0, 1, 1], [1, 1, 0]]\n",
      "[[0 1 1 1]\n",
      " [0 0 0 1]]\n"
     ]
    }
   ],
   "source": [
    "bit_array=np.array([['0', '0','1'], ['0', '1','0'], ['0', '1','1'], ['1', '1','0']])\n",
    "fbit_array=[[int(j) for j in i] for i in bit_array]\n",
    "print(fbit_array)\n",
    "row=4             #Only for 3-Variable #Can depend on the number of variables when you join the code together\n",
    "column=2          #Only for 3-Variable #Can depend on the number of variables when you join the code together\n",
    "\n",
    "\n",
    "kmap_table=np.array([[0 for row in range(row)] for column in range(column)]) #declare the 2d array for the kmap\n",
    "\n",
    "for n in range(len(fbit_array)):\n",
    "    if fbit_array[n]==[0,0,0]:\n",
    "        kmap_table[0][0]=1\n",
    "    elif fbit_array[n]==[0,0,1]:\n",
    "        kmap_table[0][1]=1\n",
    " \n",
    "    elif fbit_array[n]==[0,1,0]:\n",
    "        kmap_table[0][3]=1\n",
    "   \n",
    "    elif fbit_array[n]==[0,1,1]:\n",
    "        kmap_table[0][2]=1\n",
    " \n",
    "    elif fbit_array[n]==[1,0,0]:\n",
    "        kmap_table[1][0]=1\n",
    " \n",
    "    elif fbit_array[n]==[1,0,1]:\n",
    "        kmap_table[1][1]=1\n",
    "  \n",
    "    elif fbit_array[n]==[1,1,0]:\n",
    "        kmap_table[1][3]=1\n",
    "    elif fbit_array[n]==[1,1,1]:\n",
    "        kmap_table[1][2]=1\n",
    "        \n",
    "              \n",
    "        \n",
    "                                   \n",
    "    \n",
    "        \n",
    "print(kmap_table)"
   ]
  },
  {
   "cell_type": "code",
   "execution_count": 81,
   "id": "89109244",
   "metadata": {},
   "outputs": [
    {
     "name": "stdout",
     "output_type": "stream",
     "text": [
      "yes\n"
     ]
    }
   ],
   "source": []
  },
  {
   "cell_type": "code",
   "execution_count": null,
   "id": "66472571",
   "metadata": {},
   "outputs": [],
   "source": []
  }
 ],
 "metadata": {
  "kernelspec": {
   "display_name": "Python 3 (ipykernel)",
   "language": "python",
   "name": "python3"
  },
  "language_info": {
   "codemirror_mode": {
    "name": "ipython",
    "version": 3
   },
   "file_extension": ".py",
   "mimetype": "text/x-python",
   "name": "python",
   "nbconvert_exporter": "python",
   "pygments_lexer": "ipython3",
   "version": "3.9.12"
  }
 },
 "nbformat": 4,
 "nbformat_minor": 5
}
