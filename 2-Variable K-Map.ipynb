{
 "cells": [
  {
   "cell_type": "code",
   "execution_count": 2,
   "id": "dfdfa6ce",
   "metadata": {},
   "outputs": [],
   "source": [
    "import numpy as  np"
   ]
  },
  {
   "cell_type": "code",
   "execution_count": 3,
   "id": "74717e07",
   "metadata": {},
   "outputs": [
    {
     "name": "stdout",
     "output_type": "stream",
     "text": [
      "1\n",
      "Ā+B\n"
     ]
    }
   ],
   "source": [
    "a=np.array([[1,1],[0,1]])    #2 VARIABLE K-map\n",
    "print(a[0][0])\n",
    "First=\"\"\n",
    "Second=\"\"\n",
    "if a[0][0]==1 & a[0][1]==1:\n",
    "    First='Ā'\n",
    "    \n",
    "elif a[0][0]==1:\n",
    "    First=\"ĀB̅\"\n",
    "    \n",
    "elif a[0][1]==1:\n",
    "    First=\"ĀB\"\n",
    "    \n",
    "if a[1][0]==1:\n",
    "    First==\"B\"\n",
    "\n",
    "elif a[1][1]==1:\n",
    "    First==\"\"\n",
    "    \n",
    "if a[1][0]==1 & a[1][1]==1:\n",
    "     First=\"A\"\n",
    "if a[0][0]==1 & a[1][0]==1:\n",
    "    Second=\"+B̅\"\n",
    "if a[0][1]==1& a[1][1]==1:\n",
    "    Second=\"+B\"\n",
    "        \n",
    "if a.all()==1:\n",
    "    First=\" \"\n",
    "    Second=\" \"\n",
    "boolean=First+Second\n",
    "print(boolean)\n",
    "    \n",
    "        \n",
    "\n"
   ]
  },
  {
   "cell_type": "code",
   "execution_count": null,
   "id": "5a384f5f",
   "metadata": {},
   "outputs": [],
   "source": []
  },
  {
   "cell_type": "code",
   "execution_count": null,
   "id": "9a6bf4e7",
   "metadata": {},
   "outputs": [],
   "source": []
  }
 ],
 "metadata": {
  "kernelspec": {
   "display_name": "Python 3 (ipykernel)",
   "language": "python",
   "name": "python3"
  },
  "language_info": {
   "codemirror_mode": {
    "name": "ipython",
    "version": 3
   },
   "file_extension": ".py",
   "mimetype": "text/x-python",
   "name": "python",
   "nbconvert_exporter": "python",
   "pygments_lexer": "ipython3",
   "version": "3.9.12"
  }
 },
 "nbformat": 4,
 "nbformat_minor": 5
}
